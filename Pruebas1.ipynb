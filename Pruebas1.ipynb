{
  "nbformat": 4,
  "nbformat_minor": 0,
  "metadata": {
    "colab": {
      "name": "Pruebas1.ipynb",
      "provenance": [],
      "authorship_tag": "ABX9TyN76Y0MeGmYGQ0VG2RxBzlJ",
      "include_colab_link": true
    },
    "kernelspec": {
      "name": "python3",
      "display_name": "Python 3"
    },
    "language_info": {
      "name": "python"
    }
  },
  "cells": [
    {
      "cell_type": "markdown",
      "metadata": {
        "id": "view-in-github",
        "colab_type": "text"
      },
      "source": [
        "<a href=\"https://colab.research.google.com/github/caasalazarsa/ProgramacionAplicada/blob/main/Pruebas1.ipynb\" target=\"_parent\"><img src=\"https://colab.research.google.com/assets/colab-badge.svg\" alt=\"Open In Colab\"/></a>"
      ]
    },
    {
      "cell_type": "code",
      "source": [
        "print(\"Hello World\")"
      ],
      "metadata": {
        "colab": {
          "base_uri": "https://localhost:8080/"
        },
        "id": "ljVvEzdQR0D8",
        "outputId": "8de4ed29-56a5-4857-c4d5-f90a9ef61444"
      },
      "execution_count": null,
      "outputs": [
        {
          "output_type": "stream",
          "name": "stdout",
          "text": [
            "Hello World\n"
          ]
        }
      ]
    },
    {
      "cell_type": "code",
      "source": [
        "name=\"Carlos\"\n",
        "print(\"Hola\", name)"
      ],
      "metadata": {
        "colab": {
          "base_uri": "https://localhost:8080/"
        },
        "id": "KGJrmN9sSewj",
        "outputId": "a32b4276-1596-4b77-9896-e7f300f5041a"
      },
      "execution_count": null,
      "outputs": [
        {
          "output_type": "stream",
          "name": "stdout",
          "text": [
            "Hola Carlos\n"
          ]
        }
      ]
    },
    {
      "cell_type": "code",
      "source": [
        "a=10\n",
        "b=2\n",
        "print(\"Suma\",a+b)\n",
        "print(\"Resta\",a-b)\n",
        "print(\"Mult\",a*b)\n",
        "print(\"Div\",a/b)\n",
        "print(\"Residuo o Modulo\",a%b)\n",
        "print(\"Cociente\",a//b)\n",
        "print(\"Potencia\",a**b)\n",
        "print(\"Radicacion\",a**(1/b))"
      ],
      "metadata": {
        "colab": {
          "base_uri": "https://localhost:8080/"
        },
        "id": "WlisDRu9SqA6",
        "outputId": "174981b8-308d-489f-da98-97a49fd1bb4f"
      },
      "execution_count": null,
      "outputs": [
        {
          "output_type": "stream",
          "name": "stdout",
          "text": [
            "Suma 12\n",
            "Resta 8\n",
            "Mult 20\n",
            "Div 5.0\n",
            "Residuo o Modulo 0\n",
            "Cociente 5\n",
            "Potencia 100\n",
            "Radicacion 3.1622776601683795\n"
          ]
        }
      ]
    },
    {
      "cell_type": "code",
      "source": [
        "name=input(\"Ingrese su nombre: \")\n",
        "print(\"Hola\",name)"
      ],
      "metadata": {
        "colab": {
          "base_uri": "https://localhost:8080/"
        },
        "id": "wvICDW2_VdAc",
        "outputId": "5e3dc4a5-b2da-4c4f-9e66-e0d4d361b85c"
      },
      "execution_count": null,
      "outputs": [
        {
          "output_type": "stream",
          "name": "stdout",
          "text": [
            "Ingrese su nombre: Carlos\n",
            "Hola Carlos\n"
          ]
        }
      ]
    },
    {
      "cell_type": "code",
      "source": [
        "a=float(input(\"Ingrese un número: \"))\n",
        "b=float(input(\"Ingrese otro número: \"))\n",
        "print(\"Suma\",a+b)\n",
        "print(\"Resta\",a-b)\n",
        "print(\"Mult\",a*b)\n",
        "print(\"Div\",a/b)\n",
        "print(\"Residuo o Modulo\",a%b)\n",
        "print(\"Cociente\",a//b)\n",
        "print(\"Potencia\",a**b)\n",
        "print(\"Radicacion\",a**(1/b))"
      ],
      "metadata": {
        "colab": {
          "base_uri": "https://localhost:8080/"
        },
        "id": "CpbL1I97V6Um",
        "outputId": "0e19959f-2a95-4005-f5f0-8e930ad69d71"
      },
      "execution_count": null,
      "outputs": [
        {
          "output_type": "stream",
          "name": "stdout",
          "text": [
            "Ingrese un número: 10\n",
            "Ingrese otro número: 2\n",
            "Suma 12.0\n",
            "Resta 8.0\n",
            "Mult 20.0\n",
            "Div 5.0\n",
            "Residuo o Modulo 0.0\n",
            "Cociente 5.0\n",
            "Potencia 100.0\n",
            "Radicacion 3.1622776601683795\n"
          ]
        }
      ]
    },
    {
      "cell_type": "code",
      "source": [
        "\n",
        "from google.colab import drive\n",
        "drive.mount('/content/drive')"
      ],
      "metadata": {
        "id": "NYCzcieTzSev"
      },
      "execution_count": null,
      "outputs": []
    }
  ]
}