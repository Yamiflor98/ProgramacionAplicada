{
  "nbformat": 4,
  "nbformat_minor": 0,
  "metadata": {
    "colab": {
      "name": "Pruebas1.ipynb",
      "provenance": [],
      "collapsed_sections": [],
      "authorship_tag": "ABX9TyMnp4apbS37VXfDoP5KYXNO",
      "include_colab_link": true
    },
    "kernelspec": {
      "name": "python3",
      "display_name": "Python 3"
    },
    "language_info": {
      "name": "python"
    }
  },
  "cells": [
    {
      "cell_type": "markdown",
      "metadata": {
        "id": "view-in-github",
        "colab_type": "text"
      },
      "source": [
        "<a href=\"https://colab.research.google.com/github/caasalazarsa/ProgramacionAplicada/blob/main/Pruebas1.ipynb\" target=\"_parent\"><img src=\"https://colab.research.google.com/assets/colab-badge.svg\" alt=\"Open In Colab\"/></a>"
      ]
    },
    {
      "cell_type": "markdown",
      "source": [
        "# Hola Mundo"
      ],
      "metadata": {
        "id": "LFMnQpnEE0uz"
      }
    },
    {
      "cell_type": "code",
      "source": [
        "print(\"Hello World\")"
      ],
      "metadata": {
        "colab": {
          "base_uri": "https://localhost:8080/"
        },
        "id": "ljVvEzdQR0D8",
        "outputId": "8de4ed29-56a5-4857-c4d5-f90a9ef61444"
      },
      "execution_count": null,
      "outputs": [
        {
          "output_type": "stream",
          "name": "stdout",
          "text": [
            "Hello World\n"
          ]
        }
      ]
    },
    {
      "cell_type": "markdown",
      "source": [
        "# Declaración de Variables"
      ],
      "metadata": {
        "id": "B8ZUZ11SE55G"
      }
    },
    {
      "cell_type": "code",
      "source": [
        "name=\"Carlos\"\n",
        "print(\"Hola\", name)"
      ],
      "metadata": {
        "colab": {
          "base_uri": "https://localhost:8080/"
        },
        "id": "KGJrmN9sSewj",
        "outputId": "a32b4276-1596-4b77-9896-e7f300f5041a"
      },
      "execution_count": null,
      "outputs": [
        {
          "output_type": "stream",
          "name": "stdout",
          "text": [
            "Hola Carlos\n"
          ]
        }
      ]
    },
    {
      "cell_type": "markdown",
      "source": [
        "# Operaciones aritméticas Básicas"
      ],
      "metadata": {
        "id": "D8yu21YnE-Yf"
      }
    },
    {
      "cell_type": "code",
      "source": [
        "a=10\n",
        "b=2\n",
        "print(\"Suma\",a+b)\n",
        "print(\"Resta\",a-b)\n",
        "print(\"Mult\",a*b)\n",
        "print(\"Div\",a/b)\n",
        "print(\"Residuo o Modulo\",a%b)\n",
        "print(\"Cociente\",a//b)\n",
        "print(\"Potencia\",a**b)\n",
        "print(\"Radicacion\",a**(1/b))"
      ],
      "metadata": {
        "colab": {
          "base_uri": "https://localhost:8080/"
        },
        "id": "WlisDRu9SqA6",
        "outputId": "174981b8-308d-489f-da98-97a49fd1bb4f"
      },
      "execution_count": null,
      "outputs": [
        {
          "output_type": "stream",
          "name": "stdout",
          "text": [
            "Suma 12\n",
            "Resta 8\n",
            "Mult 20\n",
            "Div 5.0\n",
            "Residuo o Modulo 0\n",
            "Cociente 5\n",
            "Potencia 100\n",
            "Radicacion 3.1622776601683795\n"
          ]
        }
      ]
    },
    {
      "cell_type": "markdown",
      "source": [
        "# Entradas de usuario"
      ],
      "metadata": {
        "id": "JjW1CuAgFDXd"
      }
    },
    {
      "cell_type": "code",
      "source": [
        "name=input(\"Ingrese su nombre: \")\n",
        "print(\"Hola\",name)"
      ],
      "metadata": {
        "colab": {
          "base_uri": "https://localhost:8080/"
        },
        "id": "wvICDW2_VdAc",
        "outputId": "5e3dc4a5-b2da-4c4f-9e66-e0d4d361b85c"
      },
      "execution_count": null,
      "outputs": [
        {
          "output_type": "stream",
          "name": "stdout",
          "text": [
            "Ingrese su nombre: Carlos\n",
            "Hola Carlos\n"
          ]
        }
      ]
    },
    {
      "cell_type": "markdown",
      "source": [
        "# Casting (Conversión de variables a otro tipo)\n",
        "El casting corresponde a la acción de convertir un dato de un tipo a otro tipo, en el ejemplo se tiene el número 1 almacenado como un string y con la función int() se convirtió a entero, las funciones para casting en python son str(\\<variable\\>),float(\\<variable\\>),int(\\<variable\\>),bool(\\<variable\\>), entre otros."
      ],
      "metadata": {
        "id": "A5HwBFPdFGXN"
      }
    },
    {
      "cell_type": "code",
      "source": [
        "var=\"1\"\n",
        "print(type(var))\n",
        "varint=int(var)\n",
        "print(type(varint))"
      ],
      "metadata": {
        "colab": {
          "base_uri": "https://localhost:8080/"
        },
        "id": "iZzYbI5DFRKm",
        "outputId": "5773b2be-93e4-4b4c-b747-362256a62e4f"
      },
      "execution_count": 2,
      "outputs": [
        {
          "output_type": "stream",
          "name": "stdout",
          "text": [
            "<class 'str'>\n",
            "<class 'int'>\n"
          ]
        }
      ]
    },
    {
      "cell_type": "code",
      "source": [
        "a=float(input(\"Ingrese un número: \"))\n",
        "b=float(input(\"Ingrese otro número: \"))\n",
        "print(\"Suma\",a+b)\n",
        "print(\"Resta\",a-b)\n",
        "print(\"Mult\",a*b)\n",
        "print(\"Div\",a/b)\n",
        "print(\"Residuo o Modulo\",a%b)\n",
        "print(\"Cociente\",a//b)\n",
        "print(\"Potencia\",a**b)\n",
        "print(\"Radicacion\",a**(1/b))"
      ],
      "metadata": {
        "colab": {
          "base_uri": "https://localhost:8080/"
        },
        "id": "CpbL1I97V6Um",
        "outputId": "0e19959f-2a95-4005-f5f0-8e930ad69d71"
      },
      "execution_count": null,
      "outputs": [
        {
          "output_type": "stream",
          "name": "stdout",
          "text": [
            "Ingrese un número: 10\n",
            "Ingrese otro número: 2\n",
            "Suma 12.0\n",
            "Resta 8.0\n",
            "Mult 20.0\n",
            "Div 5.0\n",
            "Residuo o Modulo 0.0\n",
            "Cociente 5.0\n",
            "Potencia 100.0\n",
            "Radicacion 3.1622776601683795\n"
          ]
        }
      ]
    },
    {
      "cell_type": "markdown",
      "source": [
        "# Condicionales"
      ],
      "metadata": {
        "id": "s4nB0MV9FrAA"
      }
    },
    {
      "cell_type": "code",
      "source": [
        "cond1=(1==2)\n",
        "print(cond1,type(cond1))\n",
        "cond2=(1<=3)\n",
        "print(cond2,type(cond2))\n",
        "print(cond1 and cond2)\n",
        "print(cond1 or cond2)"
      ],
      "metadata": {
        "id": "I8VMeZiA0pXL",
        "colab": {
          "base_uri": "https://localhost:8080/"
        },
        "outputId": "2994bbab-4cc5-4b9a-adca-e6814242ab1c"
      },
      "execution_count": 7,
      "outputs": [
        {
          "output_type": "stream",
          "name": "stdout",
          "text": [
            "False <class 'bool'>\n",
            "True <class 'bool'>\n",
            "False\n",
            "True\n"
          ]
        }
      ]
    },
    {
      "cell_type": "markdown",
      "source": [
        "# Sentencia if, else y else if\n",
        "La sintaxis de python requiere ser cuidadoso con las tabulaciones, observen como no existen llaves, en su lugar está los \":\" que indican el inicio del contenido de la sentencia y luego una tabulación que indica lo que está dentro de dicha sentencia. En el ejemplo a continuación fijense que el segundo mensaje se imprime esto es porque su tabulación indica que está por fuera del if."
      ],
      "metadata": {
        "id": "qYaylkD4GR1A"
      }
    },
    {
      "cell_type": "code",
      "source": [
        "entrada=int(input(\"ingrese el número 10\"))\n",
        "\n",
        "if(entrada==10):\n",
        "  print(\"entré\")\n",
        "print(\"estoy fuera\")\n"
      ],
      "metadata": {
        "id": "19KTaw5aIg5D"
      },
      "execution_count": null,
      "outputs": []
    },
    {
      "cell_type": "code",
      "source": [
        "entrada=int(input(\"ingrese un numero entero: \"))\n",
        "\n",
        "if(entrada>10):\n",
        "  print(\"su número es mayor que 10\")\n",
        "elif(entrada<10):\n",
        "  print(\"su número es menor que 10\")\n",
        "else:\n",
        "  print(\"su número es 10\")"
      ],
      "metadata": {
        "colab": {
          "base_uri": "https://localhost:8080/"
        },
        "id": "yhiqgDMTGVFq",
        "outputId": "156e0ece-3ae4-4829-a5c4-338b0df13805"
      },
      "execution_count": 9,
      "outputs": [
        {
          "output_type": "stream",
          "name": "stdout",
          "text": [
            "ingrese un numero entero: 10\n",
            "su número es 10\n"
          ]
        }
      ]
    },
    {
      "cell_type": "markdown",
      "source": [
        "# Ciclos\n",
        "## Ciclo for\n",
        "La sintaxis de python es distinta a la declaración del for común, en este lenguaje se usa una funcion llamada range que da una secuencia de enteros"
      ],
      "metadata": {
        "id": "9zJ0GSTVJFMT"
      }
    },
    {
      "cell_type": "code",
      "source": [
        "help(range)"
      ],
      "metadata": {
        "colab": {
          "base_uri": "https://localhost:8080/"
        },
        "id": "BzORDj_fK0zI",
        "outputId": "93bcb0d9-da67-48eb-ee68-b7e1be0842ca"
      },
      "execution_count": 11,
      "outputs": [
        {
          "output_type": "stream",
          "name": "stdout",
          "text": [
            "Help on class range in module builtins:\n",
            "\n",
            "class range(object)\n",
            " |  range(stop) -> range object\n",
            " |  range(start, stop[, step]) -> range object\n",
            " |  \n",
            " |  Return an object that produces a sequence of integers from start (inclusive)\n",
            " |  to stop (exclusive) by step.  range(i, j) produces i, i+1, i+2, ..., j-1.\n",
            " |  start defaults to 0, and stop is omitted!  range(4) produces 0, 1, 2, 3.\n",
            " |  These are exactly the valid indices for a list of 4 elements.\n",
            " |  When step is given, it specifies the increment (or decrement).\n",
            " |  \n",
            " |  Methods defined here:\n",
            " |  \n",
            " |  __bool__(self, /)\n",
            " |      self != 0\n",
            " |  \n",
            " |  __contains__(self, key, /)\n",
            " |      Return key in self.\n",
            " |  \n",
            " |  __eq__(self, value, /)\n",
            " |      Return self==value.\n",
            " |  \n",
            " |  __ge__(self, value, /)\n",
            " |      Return self>=value.\n",
            " |  \n",
            " |  __getattribute__(self, name, /)\n",
            " |      Return getattr(self, name).\n",
            " |  \n",
            " |  __getitem__(self, key, /)\n",
            " |      Return self[key].\n",
            " |  \n",
            " |  __gt__(self, value, /)\n",
            " |      Return self>value.\n",
            " |  \n",
            " |  __hash__(self, /)\n",
            " |      Return hash(self).\n",
            " |  \n",
            " |  __iter__(self, /)\n",
            " |      Implement iter(self).\n",
            " |  \n",
            " |  __le__(self, value, /)\n",
            " |      Return self<=value.\n",
            " |  \n",
            " |  __len__(self, /)\n",
            " |      Return len(self).\n",
            " |  \n",
            " |  __lt__(self, value, /)\n",
            " |      Return self<value.\n",
            " |  \n",
            " |  __ne__(self, value, /)\n",
            " |      Return self!=value.\n",
            " |  \n",
            " |  __reduce__(...)\n",
            " |      Helper for pickle.\n",
            " |  \n",
            " |  __repr__(self, /)\n",
            " |      Return repr(self).\n",
            " |  \n",
            " |  __reversed__(...)\n",
            " |      Return a reverse iterator.\n",
            " |  \n",
            " |  count(...)\n",
            " |      rangeobject.count(value) -> integer -- return number of occurrences of value\n",
            " |  \n",
            " |  index(...)\n",
            " |      rangeobject.index(value) -> integer -- return index of value.\n",
            " |      Raise ValueError if the value is not present.\n",
            " |  \n",
            " |  ----------------------------------------------------------------------\n",
            " |  Static methods defined here:\n",
            " |  \n",
            " |  __new__(*args, **kwargs) from builtins.type\n",
            " |      Create and return a new object.  See help(type) for accurate signature.\n",
            " |  \n",
            " |  ----------------------------------------------------------------------\n",
            " |  Data descriptors defined here:\n",
            " |  \n",
            " |  start\n",
            " |  \n",
            " |  step\n",
            " |  \n",
            " |  stop\n",
            "\n"
          ]
        }
      ]
    },
    {
      "cell_type": "code",
      "source": [
        "# for desde 0\n",
        "for i in range(10):\n",
        "  print(i)\n",
        "\n"
      ],
      "metadata": {
        "colab": {
          "base_uri": "https://localhost:8080/"
        },
        "id": "ofWbgEUDJIe6",
        "outputId": "9061ad09-4559-4e98-8619-fa0de3bed6f7"
      },
      "execution_count": 10,
      "outputs": [
        {
          "output_type": "stream",
          "name": "stdout",
          "text": [
            "0\n",
            "1\n",
            "2\n",
            "3\n",
            "4\n",
            "5\n",
            "6\n",
            "7\n",
            "8\n",
            "9\n"
          ]
        }
      ]
    },
    {
      "cell_type": "code",
      "source": [
        "#for desde un numero distinto cualquiera\n",
        "for i in range(3,6):\n",
        "  print(i)"
      ],
      "metadata": {
        "colab": {
          "base_uri": "https://localhost:8080/"
        },
        "id": "LK48b2A7LMTf",
        "outputId": "926f9716-95b5-4036-f924-37ef1a58e259"
      },
      "execution_count": 14,
      "outputs": [
        {
          "output_type": "stream",
          "name": "stdout",
          "text": [
            "3\n",
            "4\n",
            "5\n"
          ]
        }
      ]
    },
    {
      "cell_type": "code",
      "source": [
        "#for con un incremento diferente a 1\n",
        "for i in range(0,10,2):\n",
        "  print(i)"
      ],
      "metadata": {
        "colab": {
          "base_uri": "https://localhost:8080/"
        },
        "id": "4OaVpgtzLRbH",
        "outputId": "231ad9e7-d2fb-4973-d0c9-dc04bf40f583"
      },
      "execution_count": 18,
      "outputs": [
        {
          "output_type": "stream",
          "name": "stdout",
          "text": [
            "0\n",
            "2\n",
            "4\n",
            "6\n",
            "8\n"
          ]
        }
      ]
    },
    {
      "cell_type": "markdown",
      "source": [
        "## While"
      ],
      "metadata": {
        "id": "B8sQIGEfLwuB"
      }
    },
    {
      "cell_type": "code",
      "source": [
        "i=0\n",
        "\n",
        "while(i<10):\n",
        "  print(i)\n",
        "  i=i+1\n",
        "\n",
        "#construcción de do while  fuente: https://www.freecodecamp.org/news/python-do-while-loop-example/\n",
        "\n",
        "\n",
        "while True:\n",
        "  entrada=input(\"ingrese la palabra 'exit': \")\n",
        "  if (entrada==\"exit\"):\n",
        "    break\n",
        "  \n"
      ],
      "metadata": {
        "colab": {
          "base_uri": "https://localhost:8080/"
        },
        "id": "2uwnR2oqLtz3",
        "outputId": "6a2d734f-2c93-421d-9241-394ceefeadc8"
      },
      "execution_count": 25,
      "outputs": [
        {
          "name": "stdout",
          "output_type": "stream",
          "text": [
            "0\n",
            "1\n",
            "2\n",
            "3\n",
            "4\n",
            "5\n",
            "6\n",
            "7\n",
            "8\n",
            "9\n",
            "ingrese la palabra 'exit': das\n",
            "ingrese la palabra 'exit': sup\n",
            "ingrese la palabra 'exit': ds\n",
            "ingrese la palabra 'exit': exit\n"
          ]
        }
      ]
    },
    {
      "cell_type": "markdown",
      "source": [
        "#Ejercicios a trabajar en clase\n",
        "\n",
        "\n",
        "\n",
        "1.   Hacer hola mundo\n",
        "2.   Hacer un programa que pregunte un nombre y realice el saludo \"hola <nombre>\"\n",
        "3. Con base en la fórmula\n",
        "  $imc=\\frac{peso(Kg)}{altura(m)^2}$ realizar un programa que le consulte el usuario su altura y le indique su peso ideal el cual corresponde a un IMC de 24.\n",
        "4. Escribir un programa que imprima los números enteros en un intervalo definido por el usuario (indicar un mensaje de error en consola y no operar si el primer número es mayor al segundo número).\n",
        "5. Investigar cómo obtener el día de la semana de la fecha actual en python y construir un programa que imprima el mensaje \"hay clase\" si el día es martes o jueves y \"no hay clase\" en caso contrario\n",
        "6. Construir un programa le pregunte una contraseña al usuario y la verifique con una contraseña almacenada en una variable, el programa no para de preguntar hasta que se ingrese la contraseña correcta o la palabra 'exit'. \n",
        "\n",
        "\n",
        "\n"
      ],
      "metadata": {
        "id": "I3jioAE7NKn_"
      }
    }
  ]
}