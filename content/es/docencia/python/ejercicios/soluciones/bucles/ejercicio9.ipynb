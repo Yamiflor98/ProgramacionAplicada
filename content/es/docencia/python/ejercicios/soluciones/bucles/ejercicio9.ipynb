{
  "cells": [
    {
      "cell_type": "markdown",
      "metadata": {
        "id": "NZONdhNDMdyJ"
      },
      "source": [
        "## Ejercicio\n",
        "\n",
        "Escribir un programa que almacene la cadena de caracteres `contraseña` en una variable, pregunte al usuario por la contraseña hasta que introduzca la contraseña correcta."
      ]
    },
    {
      "cell_type": "code",
      "source": [
        "\n",
        "import numpy as np\n",
        "\n",
        "v1str = input (\"ingrese los valores del vector 1 separasos por comas\")\n",
        "v1 = v1str.split(',')\n",
        "v1 = [float  (element) for element in v1]\n",
        "print ( v1 )\n",
        "v2str = input (\"ingrese los valores del vector 2 separasos por comas\")\n",
        "v2 = v2str.split(',')\n",
        "v2 = [float  (element) for element in v2]\n",
        "print ( v2 )\n",
        "res= np.dot(v1,v2)\n",
        "print(res)"
      ],
      "metadata": {
        "colab": {
          "base_uri": "https://localhost:8080/"
        },
        "id": "J0U6_c6bMl-4",
        "outputId": "7549c290-ccfe-49df-8206-500bdc0ddf42"
      },
      "execution_count": 10,
      "outputs": [
        {
          "output_type": "stream",
          "name": "stdout",
          "text": [
            "ingrese los valores del vector 1 separasos por comas5,4,9\n",
            "[5.0, 4.0, 9.0]\n",
            "ingrese los valores del vector 2 separasos por comas7,3,6\n",
            "[7.0, 3.0, 6.0]\n",
            "101.0\n"
          ]
        }
      ]
    },
    {
      "cell_type": "code",
      "source": [
        "import numpy as np\n",
        "lista = []\n",
        "while True:\n",
        "  val = input (\"ingrese el valor o fin\")\n",
        "  if val.lower() == \"fin\":\n",
        "    break\n",
        "  \n",
        "  else:\n",
        "    lista.append(float(val))\n",
        "m=np.mean(lista)\n",
        "std = np.std(lista)\n",
        "print(\"media\",m)\n",
        "print(\"desviacion\",std)"
      ],
      "metadata": {
        "colab": {
          "base_uri": "https://localhost:8080/"
        },
        "id": "4NYdcTUSXyb7",
        "outputId": "2148787d-1097-4995-b565-40ba14f4d1e2"
      },
      "execution_count": 19,
      "outputs": [
        {
          "output_type": "stream",
          "name": "stdout",
          "text": [
            "ingrese el valor o fin9\n",
            "ingrese el valor o fin7\n",
            "ingrese el valor o fin5\n",
            "ingrese el valor o fin1\n",
            "ingrese el valor o fin7\n",
            "ingrese el valor o fin5\n",
            "ingrese el valor o fin8\n",
            "ingrese el valor o finfin\n",
            "media 6.0\n",
            "desviacion 2.449489742783178\n"
          ]
        }
      ]
    },
    {
      "cell_type": "code",
      "source": [],
      "metadata": {
        "id": "PrvDXl3EQQqA"
      },
      "execution_count": null,
      "outputs": []
    },
    {
      "cell_type": "markdown",
      "metadata": {
        "id": "YWuQzwsUMdyQ"
      },
      "source": [
        "## Solución"
      ]
    },
    {
      "cell_type": "code",
      "execution_count": null,
      "metadata": {
        "id": "RJyasvTxMdyS",
        "outputId": "c9495a81-ab34-4052-9396-8feaf0d8d03d"
      },
      "outputs": [
        {
          "name": "stdin",
          "output_type": "stream",
          "text": [
            "Introduce la contraseña:  123\n",
            "Introduce la contraseña:  Contraseña\n",
            "Introduce la contraseña:  CONTRASEÑA\n",
            "Introduce la contraseña:  contraseña\n"
          ]
        },
        {
          "name": "stdout",
          "output_type": "stream",
          "text": [
            "Contraseña correcta\n"
          ]
        }
      ],
      "source": [
        "key = \"contraseña\"\n",
        "password =\"\"\n",
        "while password != key:\n",
        "    password = input(\"Introduce la contraseña: \")\n",
        "print(\"Contraseña correcta\")"
      ]
    }
  ],
  "metadata": {
    "kernelspec": {
      "display_name": "Python 3",
      "language": "python",
      "name": "python3"
    },
    "language_info": {
      "codemirror_mode": {
        "name": "ipython",
        "version": 3
      },
      "file_extension": ".py",
      "mimetype": "text/x-python",
      "name": "python",
      "nbconvert_exporter": "python",
      "pygments_lexer": "ipython3",
      "version": "3.7.1"
    },
    "colab": {
      "provenance": []
    }
  },
  "nbformat": 4,
  "nbformat_minor": 0
}